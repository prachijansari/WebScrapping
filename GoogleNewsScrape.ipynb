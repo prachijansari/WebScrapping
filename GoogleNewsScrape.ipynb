{
 "cells": [
  {
   "cell_type": "code",
   "execution_count": 51,
   "id": "ae1c5214",
   "metadata": {},
   "outputs": [
    {
     "name": "stdout",
     "output_type": "stream",
     "text": [
      "https://www.etsu.edu/etsu-news/2022/08-august/theatre-dance-2022-season.php\n",
      "New Season\n",
      "JOHNSON CITY – Four shows will headline the 2022-2023 season for East Tennessee ... The matinee performance on Saturday Oct. 22 will be a sensory-friendly...20 hours ago\n",
      "https://www.nextavenue.org/making-museums-and-zoos-accessible/\n",
      "Making Museums and Zoos Accessible for All Visitors\n",
      "Multisensory exhibits and activities have a downside: they can be ... \"sensory friendly\" mornings and offered a different slate of activities at the...5 hours ago\n",
      "https://darkecountynow.com/day-5-tuesday-august-23-2022/\n",
      "DAY 5: Tuesday August 23 2022 – Darke County Now\n",
      "9 a.m.: Junior Fair Dairy Showmanship – Cattle Show Arena. 9 a.m.: Junior Fair Bake-a-Rama ... 11 a.m. to Noon: Sensory Friendly Amusement Ride Time.14 hours ago\n",
      "https://www.leoweekly.com/2022/08/leos-guide-to-the-2022-kentucky-state-fair/\n",
      "LEO's Guide To The 2022 Kentucky State Fair\n",
      "That said: the World's Championship Horse Show requires its own admission ($11) ... (Note: there'll be a sensory-friendly morning from 10 a.m. to noon on...19 hours ago\n",
      "https://www.king5.com/article/entertainment/television/programs/new-day-northwest/back-to-school-gadgets-steve-greenberg/281-9bb3314d-00d6-4b29-a665-6379dbb7c0d6\n",
      "If you have to go back-to- school these are the gadgets you want to have\n",
      "We turned to our gadget guy and host of YouTube's gadget game show “WHAT THE HECK ... Express Your Feelings Sensory Bottles — were inspired by hand2mind's...12 mins ago\n",
      "https://www.hospitalitynet.org/opinion/4112017.html\n",
      "Top 5 Destinations to Consider for Your Next Event | By Hal Hassall\n",
      "... Myrtle Beach and the Champion Autism Network partner to train staff at hotels and restaurants so they're autism-aware and sensory-friendly experiences.21 hours ago\n",
      "https://brooklyneagle.com/articles/2022/08/16/this-brooklyn-teacher-is-making-theater-more-accessible-to-students-with-all-abilities/\n",
      "This Brooklyn teacher is making theater more accessible to students ...\n",
      "Many of my elementary students with autism have the desire for social ... by offering autism-friendly performances which include sensory exploration and...22 hours ago\n",
      "https://www.csindy.com/food_and_culture/culture/the-rise-of-comic-cons-has-given-fans-a-friendly-place-to-nerd-out/article_c1b3879e-1dd5-11ed-a3ee-6fb1e13968e5.html\n",
      "The rise of comic cons has given fans a friendly place to nerd out\n",
      "It's a sensory overload of good feelings out in the open when growing up ... Back then the show was small barely filling the convention center's massive...10 hours ago\n",
      "https://www.laughingplace.com/w/news/2022/08/17/halloween-returns-to-winchester-mystery-house/\n",
      "Halloween Returns to the Winchester Mystery House with Unhinged ...\n",
      "She has convinced the owners of the Winchester Estate to set up her show for 13 ... With many of our neighbors' seasonal events moving more family-friendly...37 mins ago\n",
      "https://www.dovepress.com/knowledge-mapping-of-acupuncture-for-fibromyalgia-from-1990-to-2022-a--peer-reviewed-fulltext-article-JPR\n",
      "Knowledge Mapping of Acupuncture for Fibromyalgia from 1990 to ...\n",
      "In addition fibromyalgia is not sensitive to hormonal drugs and NSAIDs commonly ... Studies have shown that fibromyalgia is one of the dominant diseases of...3 hours ago\n"
     ]
    },
    {
     "ename": "TypeError",
     "evalue": "'NoneType' object is not subscriptable",
     "output_type": "error",
     "traceback": [
      "\u001b[1;31m---------------------------------------------------------------------------\u001b[0m",
      "\u001b[1;31mTypeError\u001b[0m                                 Traceback (most recent call last)",
      "\u001b[1;32m~\\AppData\\Local\\Temp/ipykernel_1988/3980005025.py\u001b[0m in \u001b[0;36m<module>\u001b[1;34m\u001b[0m\n\u001b[0;32m     56\u001b[0m         \u001b[0mnews\u001b[0m\u001b[1;33m(\u001b[0m\u001b[0mlink\u001b[0m\u001b[1;33m)\u001b[0m\u001b[1;33m\u001b[0m\u001b[1;33m\u001b[0m\u001b[0m\n\u001b[0;32m     57\u001b[0m \u001b[1;33m\u001b[0m\u001b[0m\n\u001b[1;32m---> 58\u001b[1;33m \u001b[0mnews\u001b[0m\u001b[1;33m(\u001b[0m\u001b[0mlink\u001b[0m\u001b[1;33m)\u001b[0m\u001b[1;33m\u001b[0m\u001b[1;33m\u001b[0m\u001b[0m\n\u001b[0m",
      "\u001b[1;32m~\\AppData\\Local\\Temp/ipykernel_1988/3980005025.py\u001b[0m in \u001b[0;36mnews\u001b[1;34m(link)\u001b[0m\n\u001b[0;32m     52\u001b[0m             \u001b[0mdocument\u001b[0m\u001b[1;33m.\u001b[0m\u001b[0mclose\u001b[0m\u001b[1;33m(\u001b[0m\u001b[1;33m)\u001b[0m\u001b[1;33m\u001b[0m\u001b[1;33m\u001b[0m\u001b[0m\n\u001b[0;32m     53\u001b[0m         \u001b[0mnext\u001b[0m \u001b[1;33m=\u001b[0m \u001b[0msoup\u001b[0m\u001b[1;33m.\u001b[0m\u001b[0mfind\u001b[0m\u001b[1;33m(\u001b[0m\u001b[1;34m'a'\u001b[0m\u001b[1;33m,\u001b[0m \u001b[0mattrs\u001b[0m\u001b[1;33m=\u001b[0m\u001b[1;33m{\u001b[0m\u001b[1;34m'aria-label'\u001b[0m\u001b[1;33m:\u001b[0m \u001b[1;34m'Next Page'\u001b[0m\u001b[1;33m}\u001b[0m\u001b[1;33m)\u001b[0m\u001b[1;33m\u001b[0m\u001b[1;33m\u001b[0m\u001b[0m\n\u001b[1;32m---> 54\u001b[1;33m         \u001b[0mnext\u001b[0m \u001b[1;33m=\u001b[0m \u001b[1;33m(\u001b[0m\u001b[0mnext\u001b[0m\u001b[1;33m[\u001b[0m\u001b[1;34m'href'\u001b[0m\u001b[1;33m]\u001b[0m\u001b[1;33m)\u001b[0m\u001b[1;33m\u001b[0m\u001b[1;33m\u001b[0m\u001b[0m\n\u001b[0m\u001b[0;32m     55\u001b[0m         \u001b[0mlink\u001b[0m \u001b[1;33m=\u001b[0m \u001b[0mroot\u001b[0m \u001b[1;33m+\u001b[0m \u001b[0mnext\u001b[0m\u001b[1;33m\u001b[0m\u001b[1;33m\u001b[0m\u001b[0m\n\u001b[0;32m     56\u001b[0m         \u001b[0mnews\u001b[0m\u001b[1;33m(\u001b[0m\u001b[0mlink\u001b[0m\u001b[1;33m)\u001b[0m\u001b[1;33m\u001b[0m\u001b[1;33m\u001b[0m\u001b[0m\n",
      "\u001b[1;31mTypeError\u001b[0m: 'NoneType' object is not subscriptable"
     ]
    }
   ],
   "source": [
    "#author@PrachiJansari\n",
    "#do a google news scrape and then export csv\n",
    "\n",
    "from urllib.request import Request, urlopen\n",
    "from bs4 import BeautifulSoup\n",
    "import requests\n",
    "import html5lib\n",
    "\n",
    "root = \"https://www.google.com/\"\n",
    "link = \"https://www.google.com/search?q=sensory+friendly+shows&tbm=nws&sxsrf=ALiCzsa9NTNZoaIo2Bb2-NNkhNq75F4wuA:1660578478111&source=lnt&tbs=qdr:d&sa=X&ved=2ahUKEwisybzymMn5AhVykYkEHRk3BwcQpwV6BAgBEBY&biw=1920&bih=975&dpr=1\"\n",
    "\n",
    "def news(link):\n",
    "\n",
    "    req = Request(link, headers={'User-Agent': 'Mozilla/5.0'})\n",
    "    webpage = urlopen(req).read()\n",
    "    # print(webpage) use beautiful soup to parse the data\n",
    "    with requests.Session() as c:\n",
    "        soup = BeautifulSoup(webpage, 'html5lib')\n",
    "        # print(soup)\n",
    "        for i in soup.find_all('div', attrs={'class': 'Gx5Zad fP1Qef xpd EtOod pkphOe'}):\n",
    "            #print(i)\n",
    "            #print(i.find('a', href=True)['href'])\n",
    "            #/url?q=https://www.wctrib.com/news/minnesota/more-minnesota-theaters-adapt-for-people-with-autism&sa=U&ved=2ahUKEwjkz-K9rsn5AhUFoFsKHQGRBkkQxfQBegQIBRAC&usg=AOvVaw2G1WgMxzYH6Xhn_fa_CV6g\n",
    "            #parsing just the link\n",
    "        \n",
    "            full_link =(i.find('a', href=True)['href'])\n",
    "            # link = full_link.split(\"/url?q=\")[1]\n",
    "            #print(link)\n",
    "        \n",
    "            #links cant be found so we will split again from &sa=U&ved\n",
    "        \n",
    "            link = full_link.split(\"/url?q=\")[1].split('&sa=U&ved')[0]\n",
    "            print(link)\n",
    "        \n",
    "            #printing and parsing titles of the article\n",
    "            title = (i.find('div', attrs={'class': 'BNeawe vvjwJb AP7Wnd'})).get_text()\n",
    "            title = title.replace(\",\" , \"\")\n",
    "            print(title)\n",
    "        \n",
    "        \n",
    "            #printing description \n",
    "            desc = (i.find('div', attrs = {'class' : 'BNeawe s3v9rd AP7Wnd'})).get_text()\n",
    "            desc = desc.replace(\",\",\"\")\n",
    "            #split the time here \"A lot of theaters are only providing sensory friendly experiences for shows that they consider marketable to families and children.” she said.16 hours ago\"\n",
    "            descript = desc.split(\" . \")[0]\n",
    "            print(desc)\n",
    "    \n",
    "    \n",
    "        #export to csv\n",
    "    \n",
    "            document = open(\"web.csv\", \"a\")\n",
    "            document.write(\"{}, {}, {} \\n\".format(title, desc, link))\n",
    "            document.close()\n",
    "        next = soup.find('a', attrs={'aria-label': 'Next Page'})\n",
    "        next = (next['href'])\n",
    "        link = root + next\n",
    "        news(link)\n",
    "        \n",
    "news(link)"
   ]
  },
  {
   "cell_type": "code",
   "execution_count": 37,
   "id": "3452840f",
   "metadata": {
    "scrolled": true
   },
   "outputs": [],
   "source": [
    "  "
   ]
  },
  {
   "cell_type": "code",
   "execution_count": 43,
   "id": "7f7bff0b",
   "metadata": {
    "scrolled": true
   },
   "outputs": [
    {
     "ename": "IndentationError",
     "evalue": "unindent does not match any outer indentation level (<tokenize>, line 35)",
     "output_type": "error",
     "traceback": [
      "\u001b[1;36m  File \u001b[1;32m\"<tokenize>\"\u001b[1;36m, line \u001b[1;32m35\u001b[0m\n\u001b[1;33m    next = soup.find('a', attrs{'aria-label': 'Next Page'})\u001b[0m\n\u001b[1;37m    ^\u001b[0m\n\u001b[1;31mIndentationError\u001b[0m\u001b[1;31m:\u001b[0m unindent does not match any outer indentation level\n"
     ]
    }
   ],
   "source": [
    "     "
   ]
  },
  {
   "cell_type": "code",
   "execution_count": null,
   "id": "0f0260d3",
   "metadata": {},
   "outputs": [],
   "source": []
  },
  {
   "cell_type": "code",
   "execution_count": null,
   "id": "92f9f02d",
   "metadata": {},
   "outputs": [],
   "source": []
  }
 ],
 "metadata": {
  "kernelspec": {
   "display_name": "Python 3 (ipykernel)",
   "language": "python",
   "name": "python3"
  },
  "language_info": {
   "codemirror_mode": {
    "name": "ipython",
    "version": 3
   },
   "file_extension": ".py",
   "mimetype": "text/x-python",
   "name": "python",
   "nbconvert_exporter": "python",
   "pygments_lexer": "ipython3",
   "version": "3.9.7"
  }
 },
 "nbformat": 4,
 "nbformat_minor": 5
}
